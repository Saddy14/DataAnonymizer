{
 "cells": [
  {
   "cell_type": "code",
   "execution_count": 1,
   "id": "2f146c3b",
   "metadata": {},
   "outputs": [],
   "source": [
    "import pandas as pd"
   ]
  },
  {
   "cell_type": "markdown",
   "id": "1d6814d6",
   "metadata": {},
   "source": [
    "Read the file"
   ]
  },
  {
   "cell_type": "code",
   "execution_count": 2,
   "id": "f41dfb4e",
   "metadata": {},
   "outputs": [],
   "source": [
    "# df = pd.read_csv('adult.csv')\n",
    "df = pd.read_csv('MOCK_DATA1.csv')"
   ]
  },
  {
   "cell_type": "markdown",
   "id": "e09e2be2",
   "metadata": {},
   "source": [
    "Rows"
   ]
  },
  {
   "cell_type": "code",
   "execution_count": 3,
   "id": "bc59bc06",
   "metadata": {},
   "outputs": [
    {
     "data": {
      "text/plain": [
       "(1000, 15)"
      ]
     },
     "execution_count": 3,
     "metadata": {},
     "output_type": "execute_result"
    }
   ],
   "source": [
    "df.shape"
   ]
  },
  {
   "cell_type": "code",
   "execution_count": 4,
   "id": "dde9641d",
   "metadata": {},
   "outputs": [
    {
     "name": "stdout",
     "output_type": "stream",
     "text": [
      "<class 'pandas.core.frame.DataFrame'>\n",
      "RangeIndex: 1000 entries, 0 to 999\n",
      "Data columns (total 15 columns):\n",
      " #   Column          Non-Null Count  Dtype  \n",
      "---  ------          --------------  -----  \n",
      " 0   first_name      1000 non-null   object \n",
      " 1   last_name       1000 non-null   object \n",
      " 2   email           1000 non-null   object \n",
      " 3   gender          1000 non-null   object \n",
      " 4   Credit_Card     1000 non-null   int64  \n",
      " 5   card_type       1000 non-null   object \n",
      " 6   money           1000 non-null   object \n",
      " 7   bank_name       1000 non-null   object \n",
      " 8   occupation      1000 non-null   object \n",
      " 9   race            1000 non-null   object \n",
      " 10  university      1000 non-null   object \n",
      " 11  latitude        1000 non-null   float64\n",
      " 12  longtidue       1000 non-null   float64\n",
      " 13  Country         1000 non-null   object \n",
      " 14  street_address  1000 non-null   object \n",
      "dtypes: float64(2), int64(1), object(12)\n",
      "memory usage: 117.3+ KB\n"
     ]
    }
   ],
   "source": [
    "df.info()"
   ]
  },
  {
   "cell_type": "markdown",
   "id": "44730a5f",
   "metadata": {},
   "source": [
    "DF Correlation"
   ]
  },
  {
   "cell_type": "code",
   "execution_count": 5,
   "id": "7ffebf8e",
   "metadata": {},
   "outputs": [
    {
     "name": "stdout",
     "output_type": "stream",
     "text": [
      "             Credit_Card  latitude  longtidue\n",
      "Credit_Card     1.000000 -0.014450  -0.028425\n",
      "latitude       -0.014450  1.000000  -0.011051\n",
      "longtidue      -0.028425 -0.011051   1.000000\n"
     ]
    }
   ],
   "source": [
    "# Select only numeric columns for correlation calculation\n",
    "numeric_df = df.select_dtypes(include=['number'])\n",
    "\n",
    "# Calculate correlation matrix\n",
    "correlation_matrix = numeric_df.corr()\n",
    "print(correlation_matrix)"
   ]
  },
  {
   "cell_type": "code",
   "execution_count": 8,
   "id": "ab0696cb",
   "metadata": {},
   "outputs": [],
   "source": [
    "# import pandas as pd\n",
    "\n",
    "def anonymize_sensitive_fields(df):\n",
    "    # ----------------------\n",
    "    # Suppress Direct Identifiers by masking\n",
    "    # ----------------------\n",
    "    # Mask First Name and Last Name\n",
    "    if 'first_name' in df.columns:\n",
    "        df['first_name'] = '*'\n",
    "\n",
    "    if 'last_name' in df.columns:\n",
    "        df['last_name'] = '*'\n",
    "\n",
    "    # Age: generalize into custom bins\n",
    "    if 'Age' in df.columns or 'age' in df.columns:\n",
    "        df['age'] = pd.cut(df['age'],\n",
    "                       bins=[0, 20, 30, 40, 50, 60, 100],\n",
    "                       labels=[\"0-20\", \"21-30\", \"31-40\", \"41-50\", \"51-60\", \"60+\"])\n",
    "\n",
    "    if 'email' in df.columns:\n",
    "        def mask_email(email):\n",
    "            if isinstance(email, str) and \"@\" in email:\n",
    "                domain = email.split('@')[1]\n",
    "                domain_suffix = domain.split('.')[-1] if '.' in domain else ''\n",
    "                return \"****@****.\" + domain_suffix\n",
    "            return '*'\n",
    "        df['email'] = df['email'].apply(mask_email)\n",
    "\n",
    "    if 'Credit_Card' in df.columns:\n",
    "        df['Credit_Card'] = '*'\n",
    "\n",
    "    if 'CVV' in df.columns:\n",
    "        df['CVV'] = '*'\n",
    "\n",
    "    if 'Card Date-of-Expiry' in df.columns:\n",
    "        df['Card Date-of-Expiry'] = '*'\n",
    "\n",
    "    # ----------------------\n",
    "    # Generalize Quasi-identifiers\n",
    "    # ----------------------\n",
    "\n",
    "    # Ethnicity & Race: Generalize into broader groups (example)\n",
    "    # if 'Ethnicity' in df.columns:\n",
    "    #     df['Ethnicity'] = df['Ethnicity'].replace({\n",
    "    #         'Chinese': 'Asian',\n",
    "    #         'Indian': 'Asian',\n",
    "    #         'Malay': 'Asian',\n",
    "    #         'White': 'Caucasian',\n",
    "    #         'Black': 'African',\n",
    "    #         'Hispanic': 'Latino',\n",
    "    #     }).fillna('Other')\n",
    "\n",
    "    # if 'Race' in df.columns:\n",
    "    #     df['Race'] = df['Race'].replace({\n",
    "    #         'Chinese': 'Asian',\n",
    "    #         'Indian': 'Asian',\n",
    "    #         'Malay': 'Asian',\n",
    "    #         'White': 'Caucasian',\n",
    "    #         'Black': 'African',\n",
    "    #         'Hispanic': 'Latino',\n",
    "    #     }).fillna('Other')\n",
    "\n",
    "    # Occupation: Generalize to industry or first word\n",
    "    # if 'occupation' in df.columns:\n",
    "    #     df['occupation'] = df['occupation'].apply(lambda x: x.split()[0] if isinstance(x, str) else 'Other')\n",
    "\n",
    "    # Education Level: Generalize to broad categories\n",
    "    if 'Education Level' in df.columns:\n",
    "        df['Education Level'] = df['Education Level'].replace({\n",
    "            'High School': 'Secondary',\n",
    "            'Diploma': 'Tertiary',\n",
    "            'Bachelor': 'Tertiary',\n",
    "            'Master': 'Postgraduate',\n",
    "            'PhD': 'Postgraduate',\n",
    "        }).fillna('Other')\n",
    "\n",
    "    # Geolocation (Coordinates): Generalize to region (e.g., extract city)\n",
    "    if 'Location' in df.columns:\n",
    "        df['Location'] = df['Location'].apply(lambda x: x.split(',')[0] if isinstance(x, str) and ',' in x else 'Region')\n",
    "\n",
    "    # Salary: Generalize into ranges\n",
    "    # Salary: generalize into custom bins\n",
    "    if 'Salary' in df.columns or 'salary' in df.columns:\n",
    "        df['salary'] = pd.cut(df['salary'],\n",
    "                          bins=[0, 20000, 40000, 60000, 80000, 100000, 9999999],\n",
    "                          labels=[\"<20K\", \"20-40K\", \"40-60K\", \"60-80K\", \"80-100K\", \"100K+\"])\n",
    "\n",
    "    # Mask Phone Number\n",
    "    if 'phone_number' in df.columns:\n",
    "        def mask_phone(phone):\n",
    "            if isinstance(phone, str) and len(phone) >= 4:\n",
    "                return '*' * (len(phone) - 4) + phone[-4:]\n",
    "            return '*'\n",
    "        df['phone_number'] = df['phone_number'].apply(mask_phone)\n",
    "\n",
    "    if 'longitude' in df.columns:\n",
    "        df['longitude'] = df['longitude'].round(1)  # round to ~11km precision\n",
    "    \n",
    "    if 'latitude' in df.columns:\n",
    "        df['latitude'] = df['latitude'].round(1)  # round to ~11km precision\n",
    "\n",
    "    if 'street_address' in df.columns:\n",
    "        df['street_address'] = '*'\n",
    "\n",
    "\n",
    "\n",
    "    return df\n"
   ]
  },
  {
   "cell_type": "code",
   "execution_count": 9,
   "id": "446c4ed2",
   "metadata": {},
   "outputs": [],
   "source": [
    "# df = pd.read_csv(\"your_data.csv\")\n",
    "anonymized_df = anonymize_sensitive_fields(df)\n",
    "anonymized_df.to_csv(\"anonymized_output.csv\", index=False)\n"
   ]
  }
 ],
 "metadata": {
  "kernelspec": {
   "display_name": "Python 3",
   "language": "python",
   "name": "python3"
  },
  "language_info": {
   "codemirror_mode": {
    "name": "ipython",
    "version": 3
   },
   "file_extension": ".py",
   "mimetype": "text/x-python",
   "name": "python",
   "nbconvert_exporter": "python",
   "pygments_lexer": "ipython3",
   "version": "3.13.2"
  }
 },
 "nbformat": 4,
 "nbformat_minor": 5
}
